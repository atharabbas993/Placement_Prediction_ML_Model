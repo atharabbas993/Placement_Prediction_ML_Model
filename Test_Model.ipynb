{
  "nbformat": 4,
  "nbformat_minor": 0,
  "metadata": {
    "colab": {
      "private_outputs": true,
      "provenance": [],
      "gpuType": "T4",
      "authorship_tag": "ABX9TyOzx2LNvcIqNfb+kg3g1DgV",
      "include_colab_link": true
    },
    "kernelspec": {
      "name": "python3",
      "display_name": "Python 3"
    },
    "language_info": {
      "name": "python"
    },
    "accelerator": "GPU"
  },
  "cells": [
    {
      "cell_type": "markdown",
      "metadata": {
        "id": "view-in-github",
        "colab_type": "text"
      },
      "source": [
        "<a href=\"https://colab.research.google.com/github/atharabbas993/Placement_Prediction_ML_Model/blob/main/Test_Model.ipynb\" target=\"_parent\"><img src=\"https://colab.research.google.com/assets/colab-badge.svg\" alt=\"Open In Colab\"/></a>"
      ]
    },
    {
      "cell_type": "markdown",
      "source": [
        "#Import Library"
      ],
      "metadata": {
        "id": "LcWov34M5V3R"
      }
    },
    {
      "cell_type": "code",
      "source": [
        "#Import pandas to handle the dataset\n",
        "\n",
        "import pandas as pd"
      ],
      "metadata": {
        "id": "kN_lEbBr5fXV"
      },
      "execution_count": null,
      "outputs": []
    },
    {
      "cell_type": "code",
      "source": [
        "#If you have not installed this library. just install it on the mention commond\n",
        "\n",
        "!pip install ydata_profiling"
      ],
      "metadata": {
        "id": "V1X3BGyY0GAV"
      },
      "execution_count": null,
      "outputs": []
    },
    {
      "cell_type": "code",
      "source": [
        "#From y_data_profling use the profile report to make the report of dataset.\n",
        "\n",
        "from ydata_profiling import ProfileReport\n",
        "\n",
        "# create object of ProfileReport class. And then pass the dataset to which we want to make it's report.\n",
        "\n",
        "prof = ProfileReport(data_frame)\n",
        "\n",
        "#And save it to html file\n",
        "\n",
        "prof.to_file(output_file='output.html')"
      ],
      "metadata": {
        "id": "HBuwVIdc0NnR"
      },
      "execution_count": null,
      "outputs": []
    }
  ]
}